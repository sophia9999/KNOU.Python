{
  "nbformat": 4,
  "nbformat_minor": 0,
  "metadata": {
    "colab": {
      "provenance": [],
      "authorship_tag": "ABX9TyNS2f3RZ9/bbO75xk+haqdZ",
      "include_colab_link": true
    },
    "kernelspec": {
      "name": "python3",
      "display_name": "Python 3"
    },
    "language_info": {
      "name": "python"
    }
  },
  "cells": [
    {
      "cell_type": "markdown",
      "metadata": {
        "id": "view-in-github",
        "colab_type": "text"
      },
      "source": [
        "<a href=\"https://colab.research.google.com/github/sophia9999/practice/blob/main/10%EA%B0%95.ipynb\" target=\"_parent\"><img src=\"https://colab.research.google.com/assets/colab-badge.svg\" alt=\"Open In Colab\"/></a>"
      ]
    },
    {
      "cell_type": "markdown",
      "source": [
        "#객체지향\n",
        "\n",
        "##객체지향의 이해\n",
        "\n",
        "객체지향의 개념\n",
        "\n",
        "객체와 객체 사이의 상호작용으로 프로그램을 구성하는 프로그래밍 패러다임.\n",
        "\n",
        "프로그램을 유연하고 변경을 쉽게 만들어 대규모 소프트웨어 개발에 용이.\n",
        "\n",
        "1. 추상화: 공통의 속성이나 기능을 도출\n",
        "2. 캡슐화: 데이터 구조와 데이터의 연산을 결합\n",
        "3. 상속: 상위 개념의 특징이 하위 개념에 전달\n",
        "4. 다형성: 유사 객체의 사용성을 그대로 유지\n",
        "\n",
        "\n",
        "##객체\n",
        "객체는 추상화와 캡슐화의 결과\n",
        "\n",
        "실세계의 사물에 대한 상태(데이터)와 연산(메소드)을 표현한 단위\n",
        "\n",
        "-> 멤버(데이터 필드, 메소드)는 클래스(설계도면)에 의해 결정\n",
        "\n",
        "##클래스 정의\n",
        "구문형식\n",
        "\n",
        "    class 클래스 이름 :\n",
        "        초기자 정의\n",
        "        메소드 정의\n",
        "\n",
        "메소드(method)\n",
        "\n",
        "-> 객체에 대한 행동(연산)을 정의\n",
        "\n",
        "-> 함수의 정의 및 사용 방법과 동일\n",
        "\n",
        "초기자(initializer)\n",
        "\n",
        "-> 객체의 상태를 초기화하는 특수 메소드\n",
        "\n",
        "-> 항상 \"__init __\"으로 명령\n",
        "\n",
        "##메소드의 정의\n",
        "구문형식\n",
        "\n",
        "    class 클래스 이름 :\n",
        "        def 메소드 이름(self, 매개변수 리스트)\n",
        "            코드블럭\n",
        "    \n",
        "self 매개변수\n",
        "\n",
        "-> 모든 메소드의 첫 번째 매개변수\n",
        "\n",
        "-> 메소드의 구현에 사용되지만 메소드 호출 시 사용되지 않음\n",
        "\n",
        "-> 객체 자신을 참조하여 클래스 정의에 포함된 멤버에 접근 시 사용\n",
        "\n",
        "\n"
      ],
      "metadata": {
        "id": "nLfgfA2CSA2M"
      }
    },
    {
      "cell_type": "code",
      "execution_count": 5,
      "metadata": {
        "id": "HRF9Xn-tR-sA"
      },
      "outputs": [],
      "source": [
        "class Cone :\n",
        "    def __init__(self, radius = 20, height = 30) :\n",
        "        #self를 붙이지 않으면 해당 스코프(scope)를 벗어나면 사용이 불가능하다.\n",
        "        self.r = radius;\n",
        "        self.h = height;\n",
        "\n",
        "    def get_vol(self) :\n",
        "        return 1/3 * 3.14 * self.r ** 2 * self.h\n",
        "\n",
        "    def get_surf(self) :\n",
        "        return 3.14 * self.r ** 2 + +3.14 * self.r * self.h"
      ]
    },
    {
      "cell_type": "markdown",
      "source": [
        "##클래스 설계\n",
        "-> UML 클래스 다이어그램을 통해 데이터필드, 생성자, 메소드 표현 방법 표준화"
      ],
      "metadata": {
        "id": "_uzY0e3HXrrn"
      }
    },
    {
      "cell_type": "code",
      "source": [
        "class BMI :\n",
        "    def __init__(self, name, age, weight, height) :\n",
        "        self.name = name\n",
        "        self.age = age\n",
        "        self.weight = weight\n",
        "        self.height = height\n",
        "    \n",
        "    def get_BMI(self) :\n",
        "        return self.weight / (self.height / 100) ** 2\n",
        "    \n",
        "    def get_status(self) :\n",
        "        # BMI = self.get_BMI();\n",
        "        \n",
        "        if self.get_BMI() >= 25 :\n",
        "            return \"비만\"\n",
        "        elif self.get_BMI() >= 23 and self.get_BMI() < 25 :\n",
        "            return \"과체중\"\n",
        "        elif self.get_BMI() >= 18.5 and self.get_BMI() <23 :\n",
        "            return \"정상\"\n",
        "        else :\n",
        "            return \"저체중\"\n",
        "        "
      ],
      "metadata": {
        "id": "pGywfG3gaf61"
      },
      "execution_count": 8,
      "outputs": []
    },
    {
      "cell_type": "markdown",
      "source": [
        "##객체와 인스턴스\n",
        "구문형식\n",
        "\n",
        "    #생성자 호출\n",
        "    클래스 이름 (초기자 파라미터)\n",
        "\n",
        "-> 클래스의 생성자(constructor)를 통해 클래스의 인스턴스 생성\n",
        "\n",
        "-> 객체와 인스턴스는 동일 개념\n",
        "\n",
        "->클래스의 생성자는 클래스의 이름과 동일\n",
        "\n",
        "-> 클래스의 이름과 초기자의 매개변수를 사용하여 생성자를 호출\n",
        "\n",
        "##객체의 생성 과정\n",
        "\n",
        "    Cone(20, 30)\n",
        "\n",
        "1. 클래스에 해당하는 객체 생성\n",
        "2. __init __() 호출\n",
        "\n",
        "##객체의 사용\n",
        "객체의 데이터 필드 접근 및 메소드 호출\n",
        "\n",
        "-> 객체 멤버 접근 연산자(.) 사용\n",
        "\n",
        "    객체참조변수.데이터필드\n",
        "    객체참조변수.메소드(파라미터)\n",
        "\n"
      ],
      "metadata": {
        "id": "j9rH-Il9cJEo"
      }
    },
    {
      "cell_type": "code",
      "source": [
        "unit_cone = Cone()\n",
        "big_cone = Cone(50, 100)\n",
        "\n",
        "print(\"단위 원뿔의 겉넓이와 부피는\", unit_cone.get_surf(), unit_cone.get_vol(), \"입니다.\")\n",
        "print(\"큰 원뿔의 겉넓이와 부피는\", big_cone.get_surf(), big_cone.get_vol(), \"입니다.\")"
      ],
      "metadata": {
        "colab": {
          "base_uri": "https://localhost:8080/"
        },
        "id": "htMceq6AeSWy",
        "outputId": "8ec158ef-5580-4a67-98d1-fdd758257bed"
      },
      "execution_count": 6,
      "outputs": [
        {
          "output_type": "stream",
          "name": "stdout",
          "text": [
            "단위 원뿔의 겉넓이와 부피는 3140.0 12559.999999999998 입니다.\n",
            "큰 원뿔의 겉넓이와 부피는 23550.0 261666.66666666666 입니다.\n"
          ]
        }
      ]
    },
    {
      "cell_type": "code",
      "source": [
        "person1 = BMI(\"홍길동\", 40, 78, 182)\n",
        "\n",
        "print(person1.name + \"님(\" + str(person1.age) + \"세)의 BMI수치는\", person1.get_BMI(), \"결과는\", person1.get_status(), \"입니다.\")"
      ],
      "metadata": {
        "colab": {
          "base_uri": "https://localhost:8080/"
        },
        "id": "dShkCGhHgm-t",
        "outputId": "a64b0366-0005-42a1-e063-1ed63ece0a1a"
      },
      "execution_count": 9,
      "outputs": [
        {
          "output_type": "stream",
          "name": "stdout",
          "text": [
            "홍길동님(40세)의 BMI수치는 23.54788069073783 결과는 과체중 입니다.\n"
          ]
        }
      ]
    },
    {
      "cell_type": "markdown",
      "source": [
        "##데이터 타입과 객체\n",
        "\n"
      ],
      "metadata": {
        "id": "7SNIHLCLhf-c"
      }
    },
    {
      "cell_type": "code",
      "source": [
        "number = 20\n",
        "type(number)\n",
        "id(number)\n",
        "\n",
        "print(type(number))\n",
        "print(id(number))"
      ],
      "metadata": {
        "colab": {
          "base_uri": "https://localhost:8080/"
        },
        "id": "5xk2Ul0LjJ8g",
        "outputId": "d95f36bf-1953-4ee3-a0c8-27b8ce503fd1"
      },
      "execution_count": 13,
      "outputs": [
        {
          "output_type": "stream",
          "name": "stdout",
          "text": [
            "<class 'int'>\n",
            "139702061726608\n"
          ]
        }
      ]
    },
    {
      "cell_type": "markdown",
      "source": [
        "str 메소드\n",
        "\n",
        "title() 각 단어의 첫 글자를 대문자로 변경\n",
        "\n",
        "strip(), rstrip(), lstrip() 양쪽/왼쪽/오른쪽의 특정 문자를 제거\n"
      ],
      "metadata": {
        "id": "JqxyQghmj7IH"
      }
    },
    {
      "cell_type": "markdown",
      "source": [
        "##데이터 필드 감추기\n",
        "\n",
        "데이터 은닉(data hiding)\n",
        "\n",
        "-> 데이터 필드의 직접 변경을 방지하기 위해 사용자의 직접적 접근을 차단\n",
        "\n",
        "-> public과 다른 private 데이터 필드로 정의\n",
        "\n",
        "\n",
        "##접근자와 변경자\n",
        "\n",
        "-> private으로 정의된 데이터 필드는 객체 외부에서 접근 불가능\n",
        "\n",
        "접근자(accessor): 데이터 필드 반환\n",
        "변경자(mutator): 데이터 필드 설정"
      ],
      "metadata": {
        "id": "Rvg7eDSbk0DY"
      }
    },
    {
      "cell_type": "code",
      "source": [
        "class pCone :\n",
        "    def __init__(self, radius = 20, height = 30) :\n",
        "        if(radius >= 0 and height >=0) :\n",
        "            self.__r = radius;\n",
        "            self.__h = height;\n",
        "\n",
        "    def get_vol(self) :\n",
        "        return 1/3 * 3.14 * self.__r ** 2 * self.__h\n",
        "\n",
        "    def get_surf(self) :\n",
        "        return 3.14 * self.__r ** 2 + +3.14 * self.__r * self.__h\n",
        "\n",
        "    def get_radius(self) :\n",
        "        return self.__r\n",
        "\n",
        "    def set_radius(self, radius) :\n",
        "        if(radius >= 0) :\n",
        "            self.__r = radius"
      ],
      "metadata": {
        "id": "TdbVrwB9mto1"
      },
      "execution_count": null,
      "outputs": []
    }
  ]
}