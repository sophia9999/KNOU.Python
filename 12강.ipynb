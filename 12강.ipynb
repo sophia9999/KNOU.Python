{
  "nbformat": 4,
  "nbformat_minor": 0,
  "metadata": {
    "colab": {
      "provenance": [],
      "authorship_tag": "ABX9TyNSnyH2TNnHUS/wHE8hG8uq",
      "include_colab_link": true
    },
    "kernelspec": {
      "name": "python3",
      "display_name": "Python 3"
    },
    "language_info": {
      "name": "python"
    }
  },
  "cells": [
    {
      "cell_type": "markdown",
      "metadata": {
        "id": "view-in-github",
        "colab_type": "text"
      },
      "source": [
        "<a href=\"https://colab.research.google.com/github/sophia9999/practice/blob/main/12%EA%B0%95.ipynb\" target=\"_parent\"><img src=\"https://colab.research.google.com/assets/colab-badge.svg\" alt=\"Open In Colab\"/></a>"
      ]
    },
    {
      "cell_type": "markdown",
      "source": [
        "#파일\n",
        "컴퓨터에 의해 처리될 또는 처리된 데이터와 정보가 임시적으로 저장된 상태\n",
        "\n",
        "-> 일련의 연속된 바이트\n",
        "-> 프로그램(파이썬 소스코드)에 읽혀 가공 및 처리\n",
        "\n",
        "## 파일의 구성\n",
        "연속된 바이트와 파일의 시작, 파일 포인터, 파일의 끝(EoF)으로 표현\n",
        "\n",
        "##파일의 종류\n",
        "데이터가 저장되는 방식에 따라 구분\n",
        "\n",
        "-> 텍스트 파일: 별도의 인코딩 체계\n",
        "\n",
        "-> 바이너리 파일: 실제 바이너리의 숫자로 저장\n",
        "\n",
        "##파일 객체 생성\n",
        "구문형식\n",
        "\n",
        "    파일객체_참조변수 = open(파일이름, 모드)\n",
        "\n",
        "-> 물리적인 파일과 연결된 파일 객체를 생성하고 참조변수에 할당\n",
        "\n",
        "##파일 읽기\n",
        "특정 범위의 데이터를 파일에서 읽고 문자열로 반환\n",
        "(r모드)\n",
        "\n",
        "->파일 포인터의 이동을 동반\n",
        "\n",
        "close()를 하지 않았을 경우 잘못된연산이 이루어질 수 있어 반드시 수행해야한다.\n",
        "\n",
        "##파일 쓰기\n",
        "문자열을 파일 포인터가 위치한 지점에 기록\n",
        "\n",
        "-> w모드로 존재하는 파일 오픈 시 데이터 삭제 (파일 생성 및 포인터를 제일 처음 위치로 이동)\n",
        "\n",
        "-> 실제 경로에 이미 존재하는 파일인지 꼭 확인해야한다.\n",
        "\n",
        "##데이터 추가\n",
        "파일의 끝에 데이터를 덧붙이는 작업 (a모드)\n",
        "\n",
        "->파일 오픈 후 파일 포인터를 EoF로 이동\n",
        "\n",
        "->존재하지 않는 파일은 write와 동일\n"
      ],
      "metadata": {
        "id": "91FQKNq_at8C"
      }
    },
    {
      "cell_type": "markdown",
      "source": [
        "12강 실습\n",
        "12강 1절\n",
        "\n",
        "'Khan.txt' 파일을 읽고 처리하는 프로그램을 작성하시오."
      ],
      "metadata": {
        "id": "S5uD7RA9aCvc"
      }
    },
    {
      "cell_type": "code",
      "execution_count": 4,
      "metadata": {
        "id": "CYDVYOBUarbo",
        "colab": {
          "base_uri": "https://localhost:8080/"
        },
        "outputId": "bcd5a433-e41f-4413-9351-b5d8554f1c3b"
      },
      "outputs": [
        {
          "output_type": "stream",
          "name": "stdout",
          "text": [
            "1. 두려우면 실행하지 말라, 만약 실행한다면 두려워하지 말라.\n",
            "2. 최고라고 잘난 체하지 말라. 아무리 높은 산이라도 그 산에는 짐승이 산다. 그 짐승이 산꼭대기에 올라가면 산보다 더 높아진다.\n",
            "3. 나는 사치를 싫어하고 절제를 실천하며 살아왔다. 좋은 옷을 입고, 빠른 말을 타고, 아름다운 여자들을 거느리면 자신의 전망이나 목표를 잊기 쉽다. 그런 사람은 노예나 다름없으며 반드시 모든 것을 잃게 된다.\n",
            "4. 리더는 말을 많이 해선 안 된다. 말이 아니라 행동을 통해 자신의 생각을 보여줘야 한다. 지도자는 백성이 행복해지기 전에는 결코 행복해질 수 없다.\n",
            "5. 화가 나서 하는 일은 무조건 실패하게 돼 있다.\n",
            "6. 자만심을 누르는 것은 사자를 제압하는 것보다 어려우며, 분노를 이기는 것은 가장 힘센 씨름 선수를 이기는 것보다 어렵다.\n",
            "7. 군대는 전술과 전력만 우월하면 정복할 수 있다. 그러나 나라는 사람들의 마음을 얻어야 정복할 수 있다.\n",
            "8. 말 위에서 세상을 정복하는 것은 쉽다. 어려운 것은 말에서 내려와 지배하는 것이다.\n",
            "9. 나의 부하 예순베이는 아무리 싸워도 지치지 않는다. 그래서 다른 사람도 자기처럼 오래 싸우는 것을 당연하게 여기고 자기만큼 못하면 버럭 화를 낸다. 그런 사람은 절대 지도자가 될 수 없다.\n",
            "10. 성벽의 위력은 그것을 지키는 사람의 용기 이상도, 이하도 아니다.\n"
          ]
        }
      ],
      "source": [
        "khan_fp = open(\"/content/Khan.txt\", \"r\")\n",
        "\n",
        "for motto in khan_fp.readlines() :\n",
        "    print(motto.strip())\n",
        "\n",
        "khan_fp.close()"
      ]
    },
    {
      "cell_type": "code",
      "source": [
        "khan_fp = open(\"/content/Khan.txt\", \"a\")\n",
        "\n",
        "khan_fp.write(\"\\n\")\n",
        "khan_fp.write(format(\"-칭기스 칸-\", \">50s\"))\n",
        "\n",
        "khan_fp.close()"
      ],
      "metadata": {
        "id": "wTRHj02ZkoJV"
      },
      "execution_count": 6,
      "outputs": []
    },
    {
      "cell_type": "markdown",
      "source": [
        "12강 2절\n",
        "\n",
        "\"hamlet_by_Shakespeare.txt\" 파일에 포함된 단어와 각 단어의 출현 횟수를 출력하는 프로그램을 작성하시오\n",
        "\n",
        "'hamlet_by_Shakespeare.txt' 파일에 포함된 단어 중 출현한 횟수가 100 이상되는 단어와 출력 횟수를 출력하는 프로그램을 작성하시오"
      ],
      "metadata": {
        "id": "czpSnjU8Z81N"
      }
    },
    {
      "cell_type": "code",
      "source": [],
      "metadata": {
        "id": "ZOtNNXk1mCKJ"
      },
      "execution_count": null,
      "outputs": []
    },
    {
      "cell_type": "markdown",
      "source": [
        "##시퀀스의 개념\n",
        "순서화된 값의 집합체를 저장할 수 있는 데이터 타입\n",
        "\n",
        "##딕셔너리의 이해\n",
        "단어가 달라지면 설명도 달라진다.\n",
        "\n",
        "키(번지수)에 해당하는 값이 있다.\n",
        "\n",
        "##딕셔너리의 생성\n",
        "구문형식\n",
        "\n",
        "    딕셔너리_이름 = {키1:값1, 키2:값2,.., 키n:값n}\n",
        "\n",
        "-> 세트, 리스트, 딕셔너리는 키 불가능\n",
        "\n",
        "빈 딕셔너리 생성 구문형식\n",
        "\n",
        "    딕셔너리_이름 = {}\n",
        "    딕셔너리_이름 = dict[]\n",
        "\n",
        "##항목의 추가 및 삭제\n",
        "추가 구문형식\n",
        "\n",
        "    딕셔너리_이름[키] = 값\n",
        "\n",
        "##딕셔너리 순회\n",
        "각각의 항목을 순서대로 한 번씩만 방문하는 과정\n",
        "\n",
        "순회 형식\n",
        "\n",
        "    for key in dictionary\n",
        "        print(key + \":\" + str(dictionary[key])\n",
        "        key 사용블록\n",
        "\n"
      ],
      "metadata": {
        "id": "0KrRSmKjoL6U"
      }
    },
    {
      "cell_type": "code",
      "source": [
        "h_fp = open(\"/content/Hamlet_by_Shakespeare.txt\", \"r\")\n",
        "\n",
        "word_dict = dict()\n",
        "\n",
        "for line in h_fp.readlines() :\n",
        "    for word in line.strip().split() :\n",
        "        word = word.strip(\" .,:?[]\\\"\\':-\").lower()\n",
        "\n",
        "        if word_dict.get(word) is not None :\n",
        "            count = word_dict[word]\n",
        "        else :\n",
        "            count = 0\n",
        "\n",
        "        word_dict[word] = count + 1\n",
        "word_r_dict = {v:k for(k, v) in word_dict.items()}\n",
        "\n",
        "word_dict = {k:v for (v, k) in sorted(word_r_dict.items(), reverse=True)}\n",
        "\n",
        "for key in word_dict :\n",
        "    if word_dict[key] >= 100 :\n",
        "        print(\"[\"+key+\"]\", str(word_dict[key]) + \"회\")\n",
        "\n",
        "h_fp.close()"
      ],
      "metadata": {
        "colab": {
          "base_uri": "https://localhost:8080/"
        },
        "id": "HqfdkM1rqkJj",
        "outputId": "691b7262-677b-4704-acf8-cdd9dcec3825"
      },
      "execution_count": 9,
      "outputs": [
        {
          "output_type": "stream",
          "name": "stdout",
          "text": [
            "[the] 1086회\n",
            "[and] 965회\n",
            "[to] 756회\n",
            "[of] 678회\n",
            "[i] 561회\n",
            "[you] 552회\n",
            "[a] 532회\n",
            "[my] 515회\n",
            "[hamlet] 461회\n",
            "[in] 437회\n",
            "[it] 409회\n",
            "[that] 384회\n",
            "[is] 356회\n",
            "[not] 311회\n",
            "[his] 306회\n",
            "[this] 297회\n",
            "[with] 277회\n",
            "[but] 274회\n",
            "[he] 253회\n",
            "[for] 249회\n",
            "[your] 242회\n",
            "[me] 224회\n",
            "[be] 223회\n",
            "[as] 218회\n",
            "[lord] 214회\n",
            "[what] 203회\n",
            "[king] 194회\n",
            "[so] 189회\n",
            "[have] 181회\n",
            "[will] 169회\n",
            "[do] 160회\n",
            "[horatio] 150회\n",
            "[no] 139회\n",
            "[we] 138회\n",
            "[on] 134회\n",
            "[are] 129회\n",
            "[all] 123회\n",
            "[queen] 122회\n",
            "[by] 121회\n",
            "[our] 120회\n",
            "[polonius] 119회\n",
            "[they] 118회\n",
            "[shall] 117회\n",
            "[if] 113회\n",
            "[or] 112회\n",
            "[o] 111회\n",
            "[thou] 107회\n",
            "[good] 105회\n",
            "[come] 103회\n"
          ]
        }
      ]
    }
  ]
}