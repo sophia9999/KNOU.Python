{
  "nbformat": 4,
  "nbformat_minor": 0,
  "metadata": {
    "colab": {
      "provenance": [],
      "authorship_tag": "ABX9TyOf96V0g7x/x+5OMe+w+bAi",
      "include_colab_link": true
    },
    "kernelspec": {
      "name": "python3",
      "display_name": "Python 3"
    },
    "language_info": {
      "name": "python"
    }
  },
  "cells": [
    {
      "cell_type": "markdown",
      "metadata": {
        "id": "view-in-github",
        "colab_type": "text"
      },
      "source": [
        "<a href=\"https://colab.research.google.com/github/sophia9999/practice/blob/main/12%EA%B0%95.ipynb\" target=\"_parent\"><img src=\"https://colab.research.google.com/assets/colab-badge.svg\" alt=\"Open In Colab\"/></a>"
      ]
    },
    {
      "cell_type": "markdown",
      "source": [
        "#파일\n",
        "컴퓨터에 의해 처리될 또는 처리된 데이터와 정보가 임시적으로 저장된 상태\n",
        "\n",
        "-> 일련의 연속된 바이트\n",
        "-> 프로그램(파이썬 소스코드)에 읽혀 가공 및 처리\n",
        "\n",
        "## 파일의 구성\n",
        "연속된 바이트와 파일의 시작, 파일 포인터, 파일의 끝(EoF)으로 표현\n",
        "\n",
        "##파일의 종류\n",
        "데이터가 저장되는 방식에 따라 구분\n",
        "\n",
        "-> 텍스트 파일: 별도의 인코딩 체계\n",
        "\n",
        "-> 바이너리 파일: 실제 바이너리의 숫자로 저장\n",
        "\n",
        "##파일 객체 생성\n",
        "구문형식\n",
        "\n",
        "    파일객체_참조변수 = open(파일이름, 모드)\n",
        "\n",
        "-> 물리적인 파일과 연결된 파일 객체를 생성하고 참조변수에 할당\n",
        "\n",
        "##파일 읽기\n",
        "특정 범위의 데이터를 파일에서 읽고 문자열로 반환\n",
        "(r모드)\n",
        "\n",
        "->파일 포인터의 이동을 동반\n",
        "\n",
        "close()를 하지 않았을 경우 잘못된연산이 이루어질 수 있어 반드시 수행해야한다.\n",
        "\n",
        "##파일 쓰기\n",
        "문자열을 파일 포인터가 위치한 지점에 기록\n",
        "\n",
        "-> w모드로 존재하는 파일 오픈 시 데이터 삭제 (파일 생성 및 포인터를 제일 처음 위치로 이동)\n",
        "\n",
        "-> 실제 경로에 이미 존재하는 파일인지 꼭 확인해야한다.\n",
        "\n",
        "##데이터 추가\n",
        "파일의 끝에 데이터를 덧붙이는 작업 (a모드)\n",
        "\n",
        "->파일 오픈 후 파일 포인터를 EoF로 이동\n",
        "\n",
        "->존재하지 않는 파일은 write와 동일\n"
      ],
      "metadata": {
        "id": "91FQKNq_at8C"
      }
    },
    {
      "cell_type": "code",
      "execution_count": null,
      "metadata": {
        "id": "CYDVYOBUarbo"
      },
      "outputs": [],
      "source": []
    }
  ]
}