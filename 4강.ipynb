{
  "nbformat": 4,
  "nbformat_minor": 0,
  "metadata": {
    "colab": {
      "provenance": [],
      "authorship_tag": "ABX9TyPDamlmcpBoSYzEIzwfudUL",
      "include_colab_link": true
    },
    "kernelspec": {
      "name": "python3",
      "display_name": "Python 3"
    },
    "language_info": {
      "name": "python"
    }
  },
  "cells": [
    {
      "cell_type": "markdown",
      "metadata": {
        "id": "view-in-github",
        "colab_type": "text"
      },
      "source": [
        "<a href=\"https://colab.research.google.com/github/sophia9999/practice/blob/main/4%EA%B0%95.ipynb\" target=\"_parent\"><img src=\"https://colab.research.google.com/assets/colab-badge.svg\" alt=\"Open In Colab\"/></a>"
      ]
    },
    {
      "cell_type": "code",
      "execution_count": null,
      "metadata": {
        "colab": {
          "base_uri": "https://localhost:8080/"
        },
        "id": "A2Je4s0SuABA",
        "outputId": "b004285b-0ec9-470d-838b-83bc66a9480c"
      },
      "outputs": [
        {
          "output_type": "stream",
          "name": "stdout",
          "text": [
            "hi\n",
            "hello\n"
          ]
        }
      ],
      "source": [
        "print(\"hi\")\n",
        "print(\"hello\")\n",
        "\n",
        "#주석은 한 라인은 #을 사용한다.\n",
        "\n",
        "'''\n",
        "여러 라인 주석\n",
        "이렇게 쓰면 여러 라인 주석 처리가 가능하다.\n",
        "'''\n",
        "\n",
        "\"\"\"\n",
        "여러 라인 주석\n",
        "이렇게 쓰면 여러 라인 주석 처리가 가능하다.\n",
        "\n",
        "주석 사용의 습관화는 좋은 코드를 작성할 수 있는 밑바탕이다.\n",
        "\"\"\"\n",
        "\n",
        "\n",
        "\n"
      ]
    },
    {
      "cell_type": "markdown",
      "source": [
        "들여쓰기 함부로 하면 안됀다!"
      ],
      "metadata": {
        "id": "MLBV61z-uNcX"
      }
    },
    {
      "cell_type": "code",
      "source": [
        "# 숫자와 문자 타입\n",
        "\n",
        "3.141592"
      ],
      "metadata": {
        "colab": {
          "base_uri": "https://localhost:8080/"
        },
        "id": "04HkBBINwpbD",
        "outputId": "55bd1793-b618-4d22-8cba-da2c30742920"
      },
      "execution_count": 6,
      "outputs": [
        {
          "output_type": "execute_result",
          "data": {
            "text/plain": [
              "3.141592"
            ]
          },
          "metadata": {},
          "execution_count": 6
        }
      ]
    },
    {
      "cell_type": "code",
      "source": [
        "\"Computer\"\n",
        "\n",
        "#인용부호 \" << 이것 주의"
      ],
      "metadata": {
        "colab": {
          "base_uri": "https://localhost:8080/",
          "height": 35
        },
        "id": "YVNcQfHfxK7b",
        "outputId": "3c463f9a-89f9-428b-dbca-835cae80e1d7"
      },
      "execution_count": 7,
      "outputs": [
        {
          "output_type": "execute_result",
          "data": {
            "text/plain": [
              "'Computer'"
            ],
            "application/vnd.google.colaboratory.intrinsic+json": {
              "type": "string"
            }
          },
          "metadata": {},
          "execution_count": 7
        }
      ]
    },
    {
      "cell_type": "code",
      "source": [],
      "metadata": {
        "id": "08ggHz8kxe60"
      },
      "execution_count": null,
      "outputs": []
    }
  ]
}