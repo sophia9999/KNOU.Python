{
  "nbformat": 4,
  "nbformat_minor": 0,
  "metadata": {
    "colab": {
      "provenance": [],
      "include_colab_link": true
    },
    "kernelspec": {
      "name": "python3",
      "display_name": "Python 3"
    },
    "language_info": {
      "name": "python"
    }
  },
  "cells": [
    {
      "cell_type": "markdown",
      "metadata": {
        "id": "view-in-github",
        "colab_type": "text"
      },
      "source": [
        "<a href=\"https://colab.research.google.com/github/sophia9999/practice/blob/main/4%EA%B0%95.ipynb\" target=\"_parent\"><img src=\"https://colab.research.google.com/assets/colab-badge.svg\" alt=\"Open In Colab\"/></a>"
      ]
    },
    {
      "cell_type": "code",
      "execution_count": null,
      "metadata": {
        "colab": {
          "base_uri": "https://localhost:8080/"
        },
        "id": "A2Je4s0SuABA",
        "outputId": "b004285b-0ec9-470d-838b-83bc66a9480c"
      },
      "outputs": [
        {
          "output_type": "stream",
          "name": "stdout",
          "text": [
            "hi\n",
            "hello\n"
          ]
        }
      ],
      "source": [
        "print(\"hi\")\n",
        "print(\"hello\")\n",
        "\n",
        "#주석은 한 라인은 #을 사용한다.\n",
        "\n",
        "'''\n",
        "여러 라인 주석\n",
        "이렇게 쓰면 여러 라인 주석 처리가 가능하다.\n",
        "'''\n",
        "\n",
        "\"\"\"\n",
        "여러 라인 주석\n",
        "이렇게 쓰면 여러 라인 주석 처리가 가능하다.\n",
        "\n",
        "주석 사용의 습관화는 좋은 코드를 작성할 수 있는 밑바탕이다.\n",
        "\"\"\"\n",
        "\n",
        "\n",
        "\n"
      ]
    },
    {
      "cell_type": "markdown",
      "source": [
        "들여쓰기 함부로 하면 안됀다!"
      ],
      "metadata": {
        "id": "MLBV61z-uNcX"
      }
    },
    {
      "cell_type": "code",
      "source": [
        "# 숫자와 문자 타입\n",
        "\n",
        "3.141592"
      ],
      "metadata": {
        "colab": {
          "base_uri": "https://localhost:8080/"
        },
        "id": "04HkBBINwpbD",
        "outputId": "55bd1793-b618-4d22-8cba-da2c30742920"
      },
      "execution_count": null,
      "outputs": [
        {
          "output_type": "execute_result",
          "data": {
            "text/plain": [
              "3.141592"
            ]
          },
          "metadata": {},
          "execution_count": 6
        }
      ]
    },
    {
      "cell_type": "code",
      "source": [
        "\"Computer\"\n",
        "\n",
        "#인용부호 \" << 이것 주의"
      ],
      "metadata": {
        "colab": {
          "base_uri": "https://localhost:8080/",
          "height": 35
        },
        "id": "YVNcQfHfxK7b",
        "outputId": "3c463f9a-89f9-428b-dbca-835cae80e1d7"
      },
      "execution_count": null,
      "outputs": [
        {
          "output_type": "execute_result",
          "data": {
            "text/plain": [
              "'Computer'"
            ],
            "application/vnd.google.colaboratory.intrinsic+json": {
              "type": "string"
            }
          },
          "metadata": {},
          "execution_count": 7
        }
      ]
    },
    {
      "cell_type": "code",
      "source": [
        "( 7 + 15 ) * 2"
      ],
      "metadata": {
        "id": "08ggHz8kxe60",
        "colab": {
          "base_uri": "https://localhost:8080/"
        },
        "outputId": "8656ee78-11b2-4de5-9e32-1e2dbac3a9c8"
      },
      "execution_count": 1,
      "outputs": [
        {
          "output_type": "execute_result",
          "data": {
            "text/plain": [
              "44"
            ]
          },
          "metadata": {},
          "execution_count": 1
        }
      ]
    },
    {
      "cell_type": "code",
      "source": [
        "2 ** 10 * 5"
      ],
      "metadata": {
        "colab": {
          "base_uri": "https://localhost:8080/"
        },
        "id": "L9K43qRj75oU",
        "outputId": "eef7a2ae-1478-422b-ef98-0ca19b400ad2"
      },
      "execution_count": 3,
      "outputs": [
        {
          "output_type": "execute_result",
          "data": {
            "text/plain": [
              "5120"
            ]
          },
          "metadata": {},
          "execution_count": 3
        }
      ]
    },
    {
      "cell_type": "code",
      "source": [
        "\"computer\" + \"science\""
      ],
      "metadata": {
        "colab": {
          "base_uri": "https://localhost:8080/",
          "height": 35
        },
        "id": "D7R6Exgh72U8",
        "outputId": "462e1917-734b-45c1-8b6e-d81aa534d53b"
      },
      "execution_count": 2,
      "outputs": [
        {
          "output_type": "execute_result",
          "data": {
            "text/plain": [
              "'computerscience'"
            ],
            "application/vnd.google.colaboratory.intrinsic+json": {
              "type": "string"
            }
          },
          "metadata": {},
          "execution_count": 2
        }
      ]
    },
    {
      "cell_type": "code",
      "source": [
        "\"computer\" * 2"
      ],
      "metadata": {
        "colab": {
          "base_uri": "https://localhost:8080/",
          "height": 35
        },
        "id": "2-3ZEssT7-C0",
        "outputId": "965d487d-30c1-45af-cb23-9cd7dcbec58c"
      },
      "execution_count": 4,
      "outputs": [
        {
          "output_type": "execute_result",
          "data": {
            "text/plain": [
              "'computercomputer'"
            ],
            "application/vnd.google.colaboratory.intrinsic+json": {
              "type": "string"
            }
          },
          "metadata": {},
          "execution_count": 4
        }
      ]
    },
    {
      "cell_type": "code",
      "source": [
        "print( 2 * 7 )"
      ],
      "metadata": {
        "colab": {
          "base_uri": "https://localhost:8080/"
        },
        "id": "inz1GUJk8MEs",
        "outputId": "e820ce3b-c3b1-4d17-b1a6-c66ca84a6308"
      },
      "execution_count": 6,
      "outputs": [
        {
          "output_type": "stream",
          "name": "stdout",
          "text": [
            "14\n"
          ]
        }
      ]
    },
    {
      "cell_type": "code",
      "source": [
        "print(\"Hello World!\")\n",
        "print(\"Python is fun\")\n",
        "\n",
        "# echo보다 print 함수를 사용하자.\n",
        "# echo는 마지막줄만 출력되는데 print를 이용하면 두 줄을 출력할 수 있다.\n",
        "\n",
        "'''\n",
        "Python에서는 들여쓰기는 함부로 하면 안됀다. 특별한 의미를 갖기 때문이다.\n",
        "'''"
      ],
      "metadata": {
        "colab": {
          "base_uri": "https://localhost:8080/",
          "height": 72
        },
        "id": "QsNFNrhW8cok",
        "outputId": "6c36e1c1-03a3-4976-e2dd-6e29325dbf1c"
      },
      "execution_count": 10,
      "outputs": [
        {
          "output_type": "stream",
          "name": "stdout",
          "text": [
            "Hello World!\n",
            "Python is fun\n"
          ]
        },
        {
          "output_type": "execute_result",
          "data": {
            "text/plain": [
              "'\\nPython에서는 들여쓰기는 함부로 하면 안됀다. 특별한 의미를 갖기 때문이다.\\n'"
            ],
            "application/vnd.google.colaboratory.intrinsic+json": {
              "type": "string"
            }
          },
          "metadata": {},
          "execution_count": 10
        }
      ]
    },
    {
      "cell_type": "markdown",
      "source": [
        "학점계산"
      ],
      "metadata": {
        "id": "f8Lgb4DI9SLm"
      }
    },
    {
      "cell_type": "code",
      "source": [
        "# 학점 계산\n",
        "print((4.5 * 2 + 4.0 * 3) / 2)\n",
        "\n",
        "# 코드에 대한 설명을 잘 붙여줄 필요가 있다.\n",
        "# 파이썬 인터프리터가 Pass 시킨다."
      ],
      "metadata": {
        "colab": {
          "base_uri": "https://localhost:8080/"
        },
        "id": "u6bI5zZu86k2",
        "outputId": "b3fa64fa-3865-415a-f5c7-436f73e12163"
      },
      "execution_count": 11,
      "outputs": [
        {
          "output_type": "stream",
          "name": "stdout",
          "text": [
            "10.5\n"
          ]
        }
      ]
    },
    {
      "cell_type": "markdown",
      "source": [
        "프로그램을 만들기 전에 반드시 필요한 것 -> 알고리즘!\n",
        "\n",
        "원뿔의 부피\n",
        "부피 = 1/3 * 3.14 * 반지름 ** 2 * 높이\n",
        "\n",
        "원뿔의 겉넓이\n",
        "겉넓이 = 3.14 * 반지름 ** 2 + 3.14 * 반지름 * 높이"
      ],
      "metadata": {
        "id": "CvHnRUhN9xdZ"
      }
    },
    {
      "cell_type": "markdown",
      "source": [
        "##변수\n",
        "\n",
        "rad = 20\n",
        "\n",
        "\"=는 오른쪽(20)에 있는 값을 왼쪽(rad)에 집어넣어라.\" 라는 의미\n",
        "\n",
        "명령형 패러다임 언어의 특징\n",
        "-> 처리할 데이터와 처리된 결과를 임시적 저장\n",
        "-> 변수의 값을 변경하는 할당연산자(=)를 이용\n",
        "\n",
        "lvalue(지속되는 대상) = rvalue(임시적인 대상)\n",
        "\n",
        "\n",
        "##식별자\n",
        "프로그램 내부에 정의된 객체(변수, 함수 등)의 이름\n",
        "고유하게 만들어져야 한다.\n",
        "-> 문자, 숫자, 밑줄로 구성\n",
        "-> 문자 또는 밑줄로만 시작 가능\n",
        "-> 예약어와 동일할 수 없음.\n",
        "-> 길이 제한이 없음\n",
        "\n",
        "##예약어\n",
        "파이썬 인터프리터에 의해 이미 문법적인 용도로 사용되어 식별자로 사용이 불가능한 단어\n"
      ],
      "metadata": {
        "id": "7AqJY51T-qMf"
      }
    },
    {
      "cell_type": "code",
      "source": [
        "#반지름, 높이 값 할당\n",
        "rad = 20\n",
        "hei = 30\n",
        "\n",
        "#부피 출력\n",
        "print(1/3 * 3.14 * rad * rad * hei)\n",
        "\n",
        "#겉넓이 출력\n",
        "print(3.14 * rad * rad + 3.14 * rad * hei)"
      ],
      "metadata": {
        "colab": {
          "base_uri": "https://localhost:8080/"
        },
        "id": "Cf6hz7BV95si",
        "outputId": "0ad5bf77-5779-4f87-bb89-52fec0177902"
      },
      "execution_count": 12,
      "outputs": [
        {
          "output_type": "stream",
          "name": "stdout",
          "text": [
            "12560.0\n",
            "3140.0\n"
          ]
        }
      ]
    },
    {
      "cell_type": "markdown",
      "source": [
        "##산술연산자의 정의\n",
        "피연산(operand)에 대해 지정된 산술연산을 지시하는 기호\n",
        "-> 단항 연산자(unary operand)\n",
        "-> 이항 연산자(binary operand)\n",
        "\n",
        "##특수 산술연산자\n",
        "프로그래밍 언어에서만 사용되는 연산 또는 부호\n",
        "-> 정수 나눗셈 연산자(//)\n",
        "-> 모듈로 연산자(%)\n",
        "\n",
        "##연산자 우선순위\n",
        "1. 괄호 내부의 수식\n",
        "2. 지수(**) 연산자\n",
        "3. 곱셈, 실수 나눗셈, 정수 나눗셈, 나머지 연산자\n",
        "  - 왼쪽에서 오른쪽 순서로 적용\n",
        "4. 덧셈, 뺄셈 연산자\n",
        "  - 왼쪽에서 오른쪽 순서로 적용\n",
        "5. 할당 연산자\n",
        "\n",
        "\n"
      ],
      "metadata": {
        "id": "6Sm5Azo1F94u"
      }
    },
    {
      "cell_type": "code",
      "source": [
        "5 / 2"
      ],
      "metadata": {
        "colab": {
          "base_uri": "https://localhost:8080/"
        },
        "id": "VsR2iW-aHkeo",
        "outputId": "4ba46442-a682-4f65-920c-6abe7523c823"
      },
      "execution_count": 13,
      "outputs": [
        {
          "output_type": "execute_result",
          "data": {
            "text/plain": [
              "2.5"
            ]
          },
          "metadata": {},
          "execution_count": 13
        }
      ]
    },
    {
      "cell_type": "code",
      "source": [
        "5 // 2\n",
        "#정수 나눗셈 몫만 출력"
      ],
      "metadata": {
        "colab": {
          "base_uri": "https://localhost:8080/"
        },
        "id": "cOsn1f7qHuk4",
        "outputId": "6420e736-f4cc-4238-b8b3-1df1f539de21"
      },
      "execution_count": 16,
      "outputs": [
        {
          "output_type": "execute_result",
          "data": {
            "text/plain": [
              "2"
            ]
          },
          "metadata": {},
          "execution_count": 16
        }
      ]
    },
    {
      "cell_type": "code",
      "source": [
        "25 % 7\n",
        "#나머지 연산자\n",
        "#짝수, 홀수 구분에 유용하다"
      ],
      "metadata": {
        "colab": {
          "base_uri": "https://localhost:8080/"
        },
        "id": "jn3wY92bH6BI",
        "outputId": "5aed6caa-f52d-493d-b2d1-8d7a4480624d"
      },
      "execution_count": 17,
      "outputs": [
        {
          "output_type": "execute_result",
          "data": {
            "text/plain": [
              "4"
            ]
          },
          "metadata": {},
          "execution_count": 17
        }
      ]
    },
    {
      "cell_type": "code",
      "source": [],
      "metadata": {
        "id": "OreKhDUMIPUA"
      },
      "execution_count": null,
      "outputs": []
    }
  ]
}