{
  "nbformat": 4,
  "nbformat_minor": 0,
  "metadata": {
    "colab": {
      "provenance": [],
      "authorship_tag": "ABX9TyONdbM9ze3UM2pvIDaV2qzi",
      "include_colab_link": true
    },
    "kernelspec": {
      "name": "python3",
      "display_name": "Python 3"
    },
    "language_info": {
      "name": "python"
    }
  },
  "cells": [
    {
      "cell_type": "markdown",
      "metadata": {
        "id": "view-in-github",
        "colab_type": "text"
      },
      "source": [
        "<a href=\"https://colab.research.google.com/github/sophia9999/practice/blob/main/5%EA%B0%95.ipynb\" target=\"_parent\"><img src=\"https://colab.research.google.com/assets/colab-badge.svg\" alt=\"Open In Colab\"/></a>"
      ]
    },
    {
      "cell_type": "markdown",
      "source": [
        "#5강 제어 구조\n",
        "\n",
        "##구조적 프로그래밍 패러다임\n",
        "-> 절차적 프로그래밍 패러다임의 하위 개념\n",
        "\n",
        "Go To문을 사용하지 않고 프로그램을 3가지 제어 구조만으로 구성하는 프로그래밍 패러다임\n",
        "1. 순차 구조\n",
        "2. 선택 구조\n",
        "3. 반복 구조\n",
        "\n",
        "프로그램 실행 흐름이 간결하고 작은 규모로 조직화하기 쉽다.\n",
        "\n",
        "###순차구조\n",
        "실행의 흐름을 주어지는 명령의 위치적 흐름에 따라 수행하는 구조\n",
        "\n",
        "-> 명령 라인 위에서 아래로 흐르는 가장 직관적인 구조\n",
        "-> 일단 첫 단계를 시작하면 마지막 단계까지 수행\n",
        "\n",
        "###선택구조\n",
        "특정 영역 내의 명령문에 대한 실행 여부를 프로그램 실행 과정 중 결정하는 구조\n",
        "\n",
        "->실행 여부는 조건에 따라 결정\n",
        "\n",
        "###반복 구조\n",
        "특정 영역의 명령문을 여러 번 재실행하는 구조\n",
        "\n",
        "->반복 횟수를 조건에 따라 결정"
      ],
      "metadata": {
        "id": "urG5sxOt575H"
      }
    },
    {
      "cell_type": "code",
      "execution_count": 3,
      "metadata": {
        "colab": {
          "base_uri": "https://localhost:8080/"
        },
        "id": "pxz6bMia5u25",
        "outputId": "f90590d0-e8be-4bf1-8713-6df3d3ebdfc1"
      },
      "outputs": [
        {
          "output_type": "stream",
          "name": "stdout",
          "text": [
            "*\n",
            "***\n",
            "*****\n",
            "*******\n",
            "   *\n",
            "  ***\n",
            " *****\n",
            "*******\n"
          ]
        }
      ],
      "source": [
        "#삼각형 출력하기\n",
        "print(\"*\")\n",
        "print(\"***\")\n",
        "print(\"*****\")\n",
        "print(\"*******\")\n",
        "\n",
        "#순차구조 위에서 아래의 단계까지 수행\n",
        "print(\"   *\")\n",
        "print(\"  ***\")\n",
        "print(\" *****\")\n",
        "print(\"*******\")\n"
      ]
    },
    {
      "cell_type": "code",
      "source": [
        "'''\n",
        "input함수 사용자로부터 데이터를 입력받는 함수\n",
        "input\n",
        "입력 데이터를 문자 데이터 타입으로 반환\n",
        "함수의 파라미터는 입력 안내문의 목적으로 사용\n",
        "'''\n",
        "\n",
        "# rad = input(\"input함수 파라미터에 띄울 문구를 작성\")\n",
        "rad = input(\"반지름의 값을 입력하세요: \")\n"
      ],
      "metadata": {
        "colab": {
          "base_uri": "https://localhost:8080/"
        },
        "id": "xeooNbkB9hB1",
        "outputId": "1ed4fb9e-ad0b-4180-c3c6-74bc008a1e12"
      },
      "execution_count": 7,
      "outputs": [
        {
          "name": "stdout",
          "output_type": "stream",
          "text": [
            "반지름의 값을 입력하세요: 50\n"
          ]
        }
      ]
    },
    {
      "cell_type": "code",
      "source": [
        "#원뿔 계산 프로그램 개선\n",
        "rad = input(\"반지름의 값을 입력하세요: \")\n",
        "hei = input(\"높이 값을 입력하세요: \")\n",
        "\n",
        "#부피 출력\n",
        "print(1 / 3 * 3.14 * rad ** 2 * hei)\n",
        "print(3.14 * rad ** 2 + rad ** 2 * hei)\n",
        "\n",
        "'''\n",
        "input함수를 통해 입력받은 데이터는 문자열로 인식한다.\n",
        "따라서 사칙연산을 위해 데이터 타입 변환을 해야한다.\n",
        "'''"
      ],
      "metadata": {
        "colab": {
          "base_uri": "https://localhost:8080/",
          "height": 266
        },
        "id": "qMO31VNVHMPY",
        "outputId": "dcf1efbb-2065-42cd-aad4-9549d66816f4"
      },
      "execution_count": 9,
      "outputs": [
        {
          "name": "stdout",
          "output_type": "stream",
          "text": [
            "반지름의 값을 입력하세요: 20\n",
            "높이 값을 입력하세요: 30\n"
          ]
        },
        {
          "output_type": "error",
          "ename": "TypeError",
          "evalue": "ignored",
          "traceback": [
            "\u001b[0;31m---------------------------------------------------------------------------\u001b[0m",
            "\u001b[0;31mTypeError\u001b[0m                                 Traceback (most recent call last)",
            "\u001b[0;32m<ipython-input-9-018fc2dd7338>\u001b[0m in \u001b[0;36m<module>\u001b[0;34m\u001b[0m\n\u001b[1;32m      4\u001b[0m \u001b[0;34m\u001b[0m\u001b[0m\n\u001b[1;32m      5\u001b[0m \u001b[0;31m#부피 출력\u001b[0m\u001b[0;34m\u001b[0m\u001b[0;34m\u001b[0m\u001b[0m\n\u001b[0;32m----> 6\u001b[0;31m \u001b[0mprint\u001b[0m\u001b[0;34m(\u001b[0m\u001b[0;36m1\u001b[0m \u001b[0;34m/\u001b[0m \u001b[0;36m3\u001b[0m \u001b[0;34m*\u001b[0m \u001b[0;36m3.14\u001b[0m \u001b[0;34m*\u001b[0m \u001b[0mrad\u001b[0m \u001b[0;34m**\u001b[0m \u001b[0;36m2\u001b[0m \u001b[0;34m*\u001b[0m \u001b[0mhei\u001b[0m\u001b[0;34m)\u001b[0m\u001b[0;34m\u001b[0m\u001b[0;34m\u001b[0m\u001b[0m\n\u001b[0m\u001b[1;32m      7\u001b[0m \u001b[0mprint\u001b[0m\u001b[0;34m(\u001b[0m\u001b[0;36m3.14\u001b[0m \u001b[0;34m*\u001b[0m \u001b[0mrad\u001b[0m \u001b[0;34m**\u001b[0m \u001b[0;36m2\u001b[0m \u001b[0;34m+\u001b[0m \u001b[0mrad\u001b[0m \u001b[0;34m**\u001b[0m \u001b[0;36m2\u001b[0m \u001b[0;34m*\u001b[0m \u001b[0mhei\u001b[0m\u001b[0;34m)\u001b[0m\u001b[0;34m\u001b[0m\u001b[0;34m\u001b[0m\u001b[0m\n",
            "\u001b[0;31mTypeError\u001b[0m: unsupported operand type(s) for ** or pow(): 'str' and 'int'"
          ]
        }
      ]
    },
    {
      "cell_type": "markdown",
      "source": [
        "#프로그래밍 에러\n",
        "설계 미숙, 결함 또는 문법 오류로 프로그램이 의도한 대로 결과를 생성하지 못하는 문제\n",
        "\n",
        "1. 구문 오류(syntax error): 문법 체계에 적합하지 않는 명령문 입력 시 발생\n",
        "2. 실행 오류(runtime error): 논리적으로 실행불가능한 명령문 작성 시 발생\n",
        "3. 의미 오류(semantic error): 의미적으로 잘못 해석되는 명령문 작성 시 발생\n",
        "\n",
        "#데이터 타입 변환\n",
        "데이터 타입을 다른 타입으로 전환\n",
        "\n",
        "문자열 타입으로 변환 str함수\n",
        "\n",
        "정수 타입으로 변환 int함수\n",
        "\n",
        "소수 타입으로 변환 float함수"
      ],
      "metadata": {
        "id": "RgnpbuNQHwvX"
      }
    },
    {
      "cell_type": "code",
      "source": [
        "'''\n",
        "rad = input(\"반지름을 입력하세요: \")\n",
        "rad = int(rad)\n",
        "'''\n",
        "rad = int(input(\"반지름을 입력하세요: \"))"
      ],
      "metadata": {
        "colab": {
          "base_uri": "https://localhost:8080/"
        },
        "id": "bixAZqZSJVjC",
        "outputId": "653b3db4-f06b-419a-c0b8-747f213f8be7"
      },
      "execution_count": 10,
      "outputs": [
        {
          "name": "stdout",
          "output_type": "stream",
          "text": [
            "반지름을 입력하세요: 30\n"
          ]
        }
      ]
    },
    {
      "cell_type": "code",
      "source": [
        "#원뿔 계산 프로그램 개선\n",
        "rad = int(input(\"반지름의 값을 입력하세요: \"))\n",
        "hei = int(input(\"높이 값을 입력하세요: \"))\n",
        "\n",
        "#부피&겉넓이 출력\n",
        "vol = 1 / 3 * 3.14 * rad ** 2 * hei\n",
        "suf = 3.14 * rad ** 2 + rad ** 2 * hei\n",
        "print(\"부피의 값은 \" ,vol, \"입니다.\", sep=\"\")\n",
        "\n",
        "print(\"겉넓이의 값은 \", suf, \"입니다.\", sep=\"\")\n",
        "\n",
        "#sep는 공백을 없앨 수 있다."
      ],
      "metadata": {
        "colab": {
          "base_uri": "https://localhost:8080/"
        },
        "id": "TsPWTG8cJxah",
        "outputId": "ed42863c-8f62-4235-f7ff-50efadc9adca"
      },
      "execution_count": 15,
      "outputs": [
        {
          "output_type": "stream",
          "name": "stdout",
          "text": [
            "반지름의 값을 입력하세요: 5\n",
            "높이 값을 입력하세요: 10\n",
            "부피의 값은 261.66666666666663입니다.\n",
            "겉넓이의 값은 328.5입니다.\n"
          ]
        }
      ]
    },
    {
      "cell_type": "markdown",
      "source": [
        "#print 함수의 확장\n",
        "여러 개의 데이터를 단일 함수로 출력 가능\n",
        "1. 콤마(,)로 파라미터를 구분하여 입력\n",
        "2. 데이터 사이에 공백(기본값)이 자동으로 추가\n",
        "3. sep 옵션을 변경하여 공백 변경 가능\n",
        "\n",
        "콤마와 콤마 사이의 기본 값으로 공백이 있다. 따라서 해당 공백을 커스터마이징 하려면 sep옵션을 사용하면 된다."
      ],
      "metadata": {
        "id": "hISdcn6rMXLB"
      }
    }
  ]
}