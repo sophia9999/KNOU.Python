{
  "nbformat": 4,
  "nbformat_minor": 0,
  "metadata": {
    "colab": {
      "provenance": [],
      "authorship_tag": "ABX9TyNKJL2MyEHPC59w15WAAtQs",
      "include_colab_link": true
    },
    "kernelspec": {
      "name": "python3",
      "display_name": "Python 3"
    },
    "language_info": {
      "name": "python"
    }
  },
  "cells": [
    {
      "cell_type": "markdown",
      "metadata": {
        "id": "view-in-github",
        "colab_type": "text"
      },
      "source": [
        "<a href=\"https://colab.research.google.com/github/sophia9999/practice/blob/main/5%EA%B0%95.ipynb\" target=\"_parent\"><img src=\"https://colab.research.google.com/assets/colab-badge.svg\" alt=\"Open In Colab\"/></a>"
      ]
    },
    {
      "cell_type": "markdown",
      "source": [
        "#5강 제어 구조\n",
        "\n",
        "##구조적 프로그래밍 패러다임\n",
        "-> 절차적 프로그래밍 패러다임의 하위 개념\n",
        "\n",
        "Go To문을 사용하지 않고 프로그램을 3가지 제어 구조만으로 구성하는 프로그래밍 패러다임\n",
        "1. 순차 구조\n",
        "2. 선택 구조\n",
        "3. 반복 구조\n",
        "\n",
        "프로그램 실행 흐름이 간결하고 작은 규모로 조직화하기 쉽다.\n",
        "\n",
        "###순차구조\n",
        "실행의 흐름을 주어지는 명령의 위치적 흐름에 따라 수행하는 구조\n",
        "\n",
        "-> 명령 라인 위에서 아래로 흐르는 가장 직관적인 구조\n",
        "-> 일단 첫 단계를 시작하면 마지막 단계까지 수행\n",
        "\n",
        "###선택구조\n",
        "특정 영역 내의 명령문에 대한 실행 여부를 프로그램 실행 과정 중 결정하는 구조\n",
        "\n",
        "->실행 여부는 조건에 따라 결정\n",
        "\n",
        "###반복 구조\n",
        "특정 영역의 명령문을 여러 번 재실행하는 구조\n",
        "\n",
        "->반복 횟수를 조건에 따라 결정"
      ],
      "metadata": {
        "id": "urG5sxOt575H"
      }
    },
    {
      "cell_type": "code",
      "execution_count": null,
      "metadata": {
        "id": "pxz6bMia5u25"
      },
      "outputs": [],
      "source": [
        "#삼각형 출력하기\n",
        "\n"
      ]
    }
  ]
}