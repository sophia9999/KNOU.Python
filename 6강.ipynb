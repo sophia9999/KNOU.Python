{
  "nbformat": 4,
  "nbformat_minor": 0,
  "metadata": {
    "colab": {
      "provenance": [],
      "authorship_tag": "ABX9TyMvrSjvkADJ6or8BJfdJvj7",
      "include_colab_link": true
    },
    "kernelspec": {
      "name": "python3",
      "display_name": "Python 3"
    },
    "language_info": {
      "name": "python"
    }
  },
  "cells": [
    {
      "cell_type": "markdown",
      "metadata": {
        "id": "view-in-github",
        "colab_type": "text"
      },
      "source": [
        "<a href=\"https://colab.research.google.com/github/sophia9999/practice/blob/main/6%EA%B0%95.ipynb\" target=\"_parent\"><img src=\"https://colab.research.google.com/assets/colab-badge.svg\" alt=\"Open In Colab\"/></a>"
      ]
    },
    {
      "cell_type": "markdown",
      "source": [
        "#6강 선택구조\n",
        "\n",
        "선택 구조의 구문형식\n",
        "\n",
        "    if 불리언식 :\n",
        "      명령문1\n",
        "      명령문2\n",
        "\n",
        "-> 들여쓰기는 코드 블록을 표현\n",
        "\n",
        "-> 특정 동작을 수행하는 한 라인 이상의 명령문의 집합\n",
        "\n",
        "-> 스페이스 4칸 권고\n",
        "\n",
        "##불리언식\n",
        "비교연산자를 사용하여 결과가 불리언 타입으로 생성되는 표현식\n",
        "\n",
        "##불리언 타입\n",
        "논리적인 참과 거짓의 값만 표현할 수 있는 데이터 타입\n",
        "\n",
        "-> True 또는 False 예약어를 사용하여 표현\n",
        "\n",
        "-> 비교 연산자를 사용한 표현식의 결과로 생성\n"
      ],
      "metadata": {
        "id": "hkPr0iizklFY"
      }
    },
    {
      "cell_type": "code",
      "execution_count": 1,
      "metadata": {
        "colab": {
          "base_uri": "https://localhost:8080/"
        },
        "id": "CN-LVjqKkkJL",
        "outputId": "b5d3eea2-63b7-4b87-cf67-a9f7e0509c3b"
      },
      "outputs": [
        {
          "output_type": "execute_result",
          "data": {
            "text/plain": [
              "False"
            ]
          },
          "metadata": {},
          "execution_count": 1
        }
      ],
      "source": [
        " 3 > 6"
      ]
    },
    {
      "cell_type": "code",
      "source": [
        "light_on = 3 > 6\n",
        "print(light_on);"
      ],
      "metadata": {
        "colab": {
          "base_uri": "https://localhost:8080/"
        },
        "id": "HjvfRyO0muv8",
        "outputId": "b19936b3-eac9-4e8d-9d4b-db362a171fb2"
      },
      "execution_count": 4,
      "outputs": [
        {
          "output_type": "stream",
          "name": "stdout",
          "text": [
            "False\n"
          ]
        }
      ]
    },
    {
      "cell_type": "code",
      "source": [
        "rad = int(input(\"반지름의 값을 입력하세요: \"))\n",
        "hei = int(input(\"높이 값을 입력하세요: \"))\n",
        "\n",
        "if rad > 0 :\n",
        "  #부피&겉넓이 출력\n",
        "  vol = 1 / 3 * 3.14 * rad ** 2 * hei\n",
        "  suf = 3.14 * rad ** 2 + rad ** 2 * hei\n",
        "  print(\"부피의 값은 \" ,vol, \"입니다.\", sep=\"\")\n",
        "  print(\"겉넓이의 값은 \", suf, \"입니다.\", sep=\"\")"
      ],
      "metadata": {
        "colab": {
          "base_uri": "https://localhost:8080/"
        },
        "id": "_L7laljxms9F",
        "outputId": "a9eb630f-3885-42f3-a338-fabb90c9c817"
      },
      "execution_count": 5,
      "outputs": [
        {
          "name": "stdout",
          "output_type": "stream",
          "text": [
            "반지름의 값을 입력하세요: -2\n",
            "높이 값을 입력하세요: -1\n"
          ]
        }
      ]
    },
    {
      "cell_type": "markdown",
      "source": [
        "##논리연산자의 개념\n",
        "참, 거짓을 구별할 수 있는 명제를 대상으로 명제의 집합을 위해 고안한 연산자\n",
        "\n",
        "-> 두 개의 논리값(불리언식)을 연산하여 참 또는 거짓을 결과로 얻는 연산자\n",
        "\n",
        "###and\n",
        "두 논리값이 모두 True 일 때 True 반환\n",
        "###or\n",
        "두 논리값이 모두 False 일 때 False 어느 하나 True일 경우 True 반환\n",
        "###not\n",
        "단항 연산자로 논리값을 반전하여 False는 True로, True는 False로 반환\n",
        "\n",
        "##단락평가\n",
        "and와 or는, 첫 번째 논리값으로 전체 연산 결과가 판별가능할 때 두 번째 논리값은 확인하지 않는 기법\n"
      ],
      "metadata": {
        "id": "Jd5dcGzyn0HI"
      }
    },
    {
      "cell_type": "code",
      "source": [
        "temp = 20\n",
        "fruit = \"apple\"\n",
        "\n",
        "#print(temp <= 27 or fruit == \"pear\")\n",
        "print(not temp <= 27)"
      ],
      "metadata": {
        "colab": {
          "base_uri": "https://localhost:8080/"
        },
        "id": "NH7X1t3bpoGC",
        "outputId": "8cf4e177-8212-4337-95cc-cb9f2214439e"
      },
      "execution_count": 8,
      "outputs": [
        {
          "output_type": "stream",
          "name": "stdout",
          "text": [
            "False\n"
          ]
        }
      ]
    },
    {
      "cell_type": "markdown",
      "source": [
        "##이분 선택 구조의 구문형식\n",
        "    if 불리언식:\n",
        "      명령문1\n",
        "    else :\n",
        "      명령문2\n",
        "\n",
        "##다분 선택 구조의 구문형식\n",
        "    if 불리언식1 :\n",
        "      명령문1\n",
        "    elif 불리언식2 :\n",
        "      명령문2\n",
        "    elif 불리언식n :\n",
        "      명령문n\n",
        "    else :\n",
        "      명령문n+1\n",
        "\n",
        "##중첩 선택 구조의 구문형식\n",
        "    if out불리언식:\n",
        "      if in불리언식1 :\n",
        "        in명령문\n",
        "      else :\n",
        "        명령문1\n",
        "    else :\n",
        "      명령문2\n",
        "  "
      ],
      "metadata": {
        "id": "ofnwNSBcqylH"
      }
    },
    {
      "cell_type": "code",
      "source": [
        "rad = int(input(\"반지름의 값을 입력하세요: \"))\n",
        "hei = int(input(\"높이 값을 입력하세요: \"))\n",
        "\n",
        "if rad > 0 and hei > 0 :\n",
        "  #부피&겉넓이 출력\n",
        "  vol = 1 / 3 * 3.14 * rad ** 2 * hei\n",
        "  suf = 3.14 * rad ** 2 + rad ** 2 * hei\n",
        "  print(\"부피의 값은 \" ,vol, \"입니다.\", sep=\"\")\n",
        "  print(\"겉넓이의 값은 \", suf, \"입니다.\", sep=\"\")\n",
        "else :\n",
        "  print(\"반지름과 높이는 양수만 가능합니다.\")"
      ],
      "metadata": {
        "colab": {
          "base_uri": "https://localhost:8080/"
        },
        "id": "tDaQXx07p5iI",
        "outputId": "9bccadcb-61b3-4748-813e-e07b6bca7597"
      },
      "execution_count": 12,
      "outputs": [
        {
          "output_type": "stream",
          "name": "stdout",
          "text": [
            "반지름의 값을 입력하세요: -10\n",
            "높이 값을 입력하세요: -20\n",
            "반지름과 높이는 양수만 가능합니다.\n"
          ]
        }
      ]
    },
    {
      "cell_type": "code",
      "source": [
        "# 3수 중 가장 큰 값 찾기\n",
        "# A, B, C 사용자 입력\n",
        "A = int(input(\"A: 입력: \"))\n",
        "B = int(input(\"B: 입력: \"))\n",
        "C = int(input(\"C: 입력: \"))\n",
        "\n",
        "#max(A, B, C)\n",
        "\n",
        "if A > B :\n",
        "  if A > C :\n",
        "    print(A)\n",
        "  else :\n",
        "    print(C)\n",
        "else :\n",
        "  if B > C :\n",
        "    print(B)\n",
        "  else :\n",
        "    print(C)"
      ],
      "metadata": {
        "colab": {
          "base_uri": "https://localhost:8080/"
        },
        "id": "e7dBrAtZtfOo",
        "outputId": "e584829b-9441-49df-df37-7da5e3f1f347"
      },
      "execution_count": 14,
      "outputs": [
        {
          "output_type": "stream",
          "name": "stdout",
          "text": [
            "A: 입력: 10\n",
            "B: 입력: 10\n",
            "C: 입력: 5\n",
            "10\n"
          ]
        }
      ]
    }
  ]
}