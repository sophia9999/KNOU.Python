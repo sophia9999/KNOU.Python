{
  "nbformat": 4,
  "nbformat_minor": 0,
  "metadata": {
    "colab": {
      "provenance": [],
      "authorship_tag": "ABX9TyMISgfD3jSVaVJkkOB1R4jf",
      "include_colab_link": true
    },
    "kernelspec": {
      "name": "python3",
      "display_name": "Python 3"
    },
    "language_info": {
      "name": "python"
    }
  },
  "cells": [
    {
      "cell_type": "markdown",
      "metadata": {
        "id": "view-in-github",
        "colab_type": "text"
      },
      "source": [
        "<a href=\"https://colab.research.google.com/github/sophia9999/practice/blob/main/7%EA%B0%95.ipynb\" target=\"_parent\"><img src=\"https://colab.research.google.com/assets/colab-badge.svg\" alt=\"Open In Colab\"/></a>"
      ]
    },
    {
      "cell_type": "markdown",
      "source": [
        "#반복구조\n",
        "\n",
        "##반복구조의 개념\n",
        "특정 영역의 명령문을 여러 번 실행하는 구조\n",
        "\n",
        "#반복 구조의 구문형식\n",
        "\n",
        "구문형식: 조건 제어 반복\n",
        "\n",
        "    while 반복-계속-조건: (반복 여부를 매번 판단)\n",
        "      코드 블록\n",
        "\n",
        "구문형식: 계수 제어 반복\n",
        "    for 계수-제어-변수 in 시퀀스: (반복 횟수를 미리 제시)\n",
        "      코드 블록\n",
        "\n"
      ],
      "metadata": {
        "id": "b1yRLGMojusY"
      }
    },
    {
      "cell_type": "code",
      "execution_count": 1,
      "metadata": {
        "colab": {
          "base_uri": "https://localhost:8080/"
        },
        "id": "Zodnka0vjtBf",
        "outputId": "f3c92198-fafa-4cac-b10b-f7ff47df5e41"
      },
      "outputs": [
        {
          "output_type": "stream",
          "name": "stdout",
          "text": [
            "저는 파이썬을 잘 다룰 수 있습니다.\n",
            "저는 파이썬을 잘 다룰 수 있습니다.\n",
            "저는 파이썬을 잘 다룰 수 있습니다.\n",
            "저는 파이썬을 잘 다룰 수 있습니다.\n",
            "저는 파이썬을 잘 다룰 수 있습니다.\n"
          ]
        }
      ],
      "source": [
        "#반복 출력 프로그램\n",
        "\n",
        "msg = \"저는 파이썬을 잘 다룰 수 있습니다.\"\n",
        "\n",
        "#5번 반복 출력\n",
        "count = 1\n",
        "while count <= 5 :\n",
        "  print(msg)\n",
        "  count = count + 1"
      ]
    },
    {
      "cell_type": "code",
      "source": [
        "#n까지의 합을 구하는 반복구조\n",
        "\n",
        "value = int(input(\"입력한 숫자까지의 합을 구하겠습니다: \"))\n",
        "count = 1;\n",
        "sum = 0;\n",
        "\n",
        "while count <= value :\n",
        "  sum += count\n",
        "  count = count + 1\n",
        "\n",
        "print(\"입력한 n의 값 : \" ,value )\n",
        "print(\"n까지의 합 : \" ,sum)"
      ],
      "metadata": {
        "colab": {
          "base_uri": "https://localhost:8080/"
        },
        "id": "HeT9WmpKluTg",
        "outputId": "ec4642bd-f530-4dbd-9aa7-8d7dce503af1"
      },
      "execution_count": 10,
      "outputs": [
        {
          "output_type": "stream",
          "name": "stdout",
          "text": [
            "n의 값100\n",
            "입력한 n의 값 :  100\n",
            "n까지의 합 :  5050\n"
          ]
        }
      ]
    },
    {
      "cell_type": "code",
      "source": [
        "#구구단 출력 프로그램\n",
        "\n",
        "dan = int(input(\"출력할 단을 입력하세요: \"))\n",
        "count = 1\n",
        "\n",
        "while count <= 9 :\n",
        "  print( dan , \" X \",count, \" = \", dan*count)\n",
        "  count = count + 1"
      ],
      "metadata": {
        "colab": {
          "base_uri": "https://localhost:8080/"
        },
        "id": "zAK2R_lKokQN",
        "outputId": "361a8c94-20de-4af2-8aa4-6032cc5b639a"
      },
      "execution_count": 13,
      "outputs": [
        {
          "output_type": "stream",
          "name": "stdout",
          "text": [
            "출력할 단을 입력하세요: 12\n",
            "12  X  1  =  12\n",
            "12  X  2  =  24\n",
            "12  X  3  =  36\n",
            "12  X  4  =  48\n",
            "12  X  5  =  60\n",
            "12  X  6  =  72\n",
            "12  X  7  =  84\n",
            "12  X  8  =  96\n",
            "12  X  9  =  108\n"
          ]
        }
      ]
    },
    {
      "cell_type": "markdown",
      "source": [
        "#리스트\n",
        "\n",
        "#리스트의 개념\n",
        "순서화된 값의 집합체를 저장할 수 있는 데이터 타입\n",
        "\n",
        "1. 단일 식별자로 연속된 저장 공간 접근 수단 제공\n",
        "2. 개별 원소의 값을 수정, 추가, 삭제 가능\n",
        "3. 원소(element)의 나열을 저장할 수 있는 시퀀스 타입 중 하나(리스트, 세트, 투플, 딕셔너리 등)\n",
        "\n",
        "#리스트의 구성\n",
        "원소들의 순서를 표현\n",
        "\n",
        "#리스트의 생성\n",
        "구문형식\n",
        "\n",
        "1. list([원소 시퀀스])\n",
        "2. [원소 시퀀스]\n",
        "\n",
        "인용부호 [와 ]를 사용하여 표현\n",
        "\n",
        "원소는 콤마(,)로 나열\n",
        "\n",
        "    [1, 4, 14, 26, 31]\n",
        "    hei_list = [1, 4, 14, 26, 31]\n",
        "여러 개의 원소 타입도 하나의 리스트로 묶을 수 있다.\n",
        "\n",
        "    body = [181, 78, \"dark brown\", \"black\"]\n",
        "\n",
        "#인덱스 연산자\n",
        "시퀀스 타입의 원소에 접근하는 연산자\n",
        "1. 접근 연산자 [, ] 사용\n",
        "2. 원소에 부여된 인덱스 번호로 지칭\n",
        "\n",
        "#계수 제어 반복의 사용\n",
        "구문형식\n",
        "\n",
        "    for 계수-제어-변수 in 시퀀스:\n",
        "      코드블록\n",
        "\n",
        "\n"
      ],
      "metadata": {
        "id": "yr4UFu7usRJx"
      }
    },
    {
      "cell_type": "code",
      "source": [
        "#리스트 생성\n",
        "hei_list = [1, 4, 14, 26, 31]\n",
        "\n",
        "for hei in hei_list :\n",
        "  print(hei)"
      ],
      "metadata": {
        "colab": {
          "base_uri": "https://localhost:8080/"
        },
        "id": "Wl57mCOLucWj",
        "outputId": "bacbf8a2-810f-495e-abda-b3846a7ef493"
      },
      "execution_count": 14,
      "outputs": [
        {
          "output_type": "stream",
          "name": "stdout",
          "text": [
            "1\n",
            "4\n",
            "14\n",
            "26\n",
            "31\n"
          ]
        }
      ]
    },
    {
      "cell_type": "markdown",
      "source": [
        "#리스트 생성 자동화\n",
        "리스트 내 원소에 규칙성이 있는 경우\n",
        "생성 자동화를 위해 함수 사용 가능\n",
        "    \n",
        "    range(a, b, k)\n",
        "1. a부터 b보다 **작은 값**까지 k씩 증가시켜 시퀀스 생성. \n",
        "2. k생략 시 기본값1\n",
        "3. a생략 시 기본값0\n",
        "\n"
      ],
      "metadata": {
        "id": "zlZkpTJKwEBk"
      }
    },
    {
      "cell_type": "code",
      "source": [
        "#메시지 저장\n",
        "msg = \"저는 파이선을 잘 다룰 수 있습니다.\"\n",
        "\n",
        "#5번 반복 출력\n",
        "for count in range(1,6) :\n",
        "    print(msg)"
      ],
      "metadata": {
        "colab": {
          "base_uri": "https://localhost:8080/"
        },
        "id": "e6YWc82GzZLG",
        "outputId": "f717f894-d25b-4daa-b14d-d829c53e59db"
      },
      "execution_count": 15,
      "outputs": [
        {
          "output_type": "stream",
          "name": "stdout",
          "text": [
            "저는 파이선을 잘 다룰 수 있습니다.\n",
            "저는 파이선을 잘 다룰 수 있습니다.\n",
            "저는 파이선을 잘 다룰 수 있습니다.\n",
            "저는 파이선을 잘 다룰 수 있습니다.\n",
            "저는 파이선을 잘 다룰 수 있습니다.\n"
          ]
        }
      ]
    },
    {
      "cell_type": "code",
      "source": [
        "#반지름과 높이가 바뀌는 프로그램 만들기\n",
        "'''\n",
        "반지름과 높이가 (10, 1), (20, 5), (30, 14)인 원뿔의 부피와 겉넓이를 각각 출력하는 문제\n",
        "'''\n",
        "\n",
        "rad_list = range(10, 40, 10)\n",
        "hei_list = [1, 5, 14]\n",
        "\n",
        "for rad, hei in zip(rad_list, hei_list) :\n",
        "    #부피&겉넓이 계산\n",
        "    vol = 1/3 * 3.15 * rad ** 2 * hei\n",
        "    surf = 3.14 * rad ** 2 + 3.14 * rad * hei\n",
        "    print(\"반지름:\", rad, \"높이: \", hei, \"원뿔 \")\n",
        "    print(\"원뿔의 부피는\", vol, \"입니다.\")\n",
        "    print(\"원뿔의 겉넓이는\", surf, \"입니다.\")"
      ],
      "metadata": {
        "colab": {
          "base_uri": "https://localhost:8080/"
        },
        "id": "mXuhQVCZz1MF",
        "outputId": "2911298d-7fc8-4502-c63e-4363a4b738ff"
      },
      "execution_count": 22,
      "outputs": [
        {
          "output_type": "stream",
          "name": "stdout",
          "text": [
            "반지름: 10 높이:  1 원뿔 \n",
            "원뿔의 부피는 104.99999999999999 입니다.\n",
            "원뿔의 겉넓이는 345.4 입니다.\n",
            "반지름: 20 높이:  5 원뿔 \n",
            "원뿔의 부피는 2099.9999999999995 입니다.\n",
            "원뿔의 겉넓이는 1570.0 입니다.\n",
            "반지름: 30 높이:  14 원뿔 \n",
            "원뿔의 부피는 13229.999999999998 입니다.\n",
            "원뿔의 겉넓이는 4144.8 입니다.\n"
          ]
        }
      ]
    },
    {
      "cell_type": "markdown",
      "source": [
        "#중첩 반복 구조\n",
        "반복 구조 내 다른 반복구조를 내포한 구조\n",
        "\n",
        "구문형식\n",
        "\n",
        "    for 계수-제어-변수1 in 시퀀스1:\n",
        "        for 계수-제어-변수2 in 시퀀스2:\n",
        "            명령 블록\n",
        "\n",
        "#format 함수\n",
        "데이터를 양식에 맞춰 형식화\n",
        "\n",
        "    format(\"구구단표\", \">10s\")\n",
        "    \n",
        "변경 대상 데이터, 형식 지정자\n",
        "\n",
        "형식 지정자 > 10 S\n",
        "오른쪽 정렬 10(필드 폭) S:문자열(d:정수)\n",
        "\n",
        "#format 함수의 사용\n",
        "문자열 형식 \n",
        "\n",
        "    format(\"구구단표\", \">10s\")\n",
        "문자열 형식은 좌측정렬이 기본.\n",
        "\n",
        "정수 형식\n",
        "\n",
        "    format(1234, \"<10d\")\n",
        "정수 형식은 우측정렬이 기본\n",
        "\n"
      ],
      "metadata": {
        "id": "iC4aUIrt1--m"
      }
    },
    {
      "cell_type": "code",
      "source": [
        "#구구단 표를 출력하는 문제\n",
        "\n",
        "print(format(\"구구단표\", \">20s\"))\n",
        "\n",
        "#표 머리 출력\n",
        "print(\"  |\", end = \"\")\n",
        "for j in range(1, 10):\n",
        "    print(\"  \", j, end = \"\")\n",
        "#새로운 행 삽입\n",
        "print()\n",
        "print(\"-----------------------------------------\")\n",
        "\n",
        "#구구단 표 출력\n",
        "for i in range(1, 10):\n",
        "    #단 정보 출력\n",
        "    print(i, \"|\", end = \"\")\n",
        "    for k in range(1, 10):\n",
        "        print(format(i*k, \">4d\"), end = \"\")\n",
        "    #새로운 행 삽입\n",
        "    print()"
      ],
      "metadata": {
        "colab": {
          "base_uri": "https://localhost:8080/"
        },
        "id": "mqKKBr9-3zcT",
        "outputId": "40294ddf-1435-43ff-c3a4-feac0dcef364"
      },
      "execution_count": 36,
      "outputs": [
        {
          "output_type": "stream",
          "name": "stdout",
          "text": [
            "                구구단표\n",
            "  |   1   2   3   4   5   6   7   8   9\n",
            "-----------------------------------------\n",
            "1 |   1   2   3   4   5   6   7   8   9\n",
            "2 |   2   4   6   8  10  12  14  16  18\n",
            "3 |   3   6   9  12  15  18  21  24  27\n",
            "4 |   4   8  12  16  20  24  28  32  36\n",
            "5 |   5  10  15  20  25  30  35  40  45\n",
            "6 |   6  12  18  24  30  36  42  48  54\n",
            "7 |   7  14  21  28  35  42  49  56  63\n",
            "8 |   8  16  24  32  40  48  56  64  72\n",
            "9 |   9  18  27  36  45  54  63  72  81\n"
          ]
        }
      ]
    }
  ]
}