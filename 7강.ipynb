{
  "nbformat": 4,
  "nbformat_minor": 0,
  "metadata": {
    "colab": {
      "provenance": [],
      "authorship_tag": "ABX9TyNpsOrhbkRbp/+3i1wm5wzP",
      "include_colab_link": true
    },
    "kernelspec": {
      "name": "python3",
      "display_name": "Python 3"
    },
    "language_info": {
      "name": "python"
    }
  },
  "cells": [
    {
      "cell_type": "markdown",
      "metadata": {
        "id": "view-in-github",
        "colab_type": "text"
      },
      "source": [
        "<a href=\"https://colab.research.google.com/github/sophia9999/practice/blob/main/7%EA%B0%95.ipynb\" target=\"_parent\"><img src=\"https://colab.research.google.com/assets/colab-badge.svg\" alt=\"Open In Colab\"/></a>"
      ]
    },
    {
      "cell_type": "markdown",
      "source": [
        "#반복구조\n",
        "\n",
        "##반복구조의 개념\n",
        "특정 영역의 명령문을 여러 번 실행하는 구조\n",
        "\n",
        "#반복 구조의 구문형식\n",
        "\n",
        "구문형식: 조건 제어 반복\n",
        "\n",
        "    while 반복-계속-조건: (반복 여부를 매번 판단)\n",
        "      코드 블록\n",
        "\n",
        "구문형식: 계수 제어 반복\n",
        "    for 계수-제어-변수 in 시퀀스: (반복 횟수를 미리 제시)\n",
        "      코드 블록\n",
        "\n"
      ],
      "metadata": {
        "id": "b1yRLGMojusY"
      }
    },
    {
      "cell_type": "code",
      "execution_count": null,
      "metadata": {
        "id": "Zodnka0vjtBf"
      },
      "outputs": [],
      "source": [
        "#반복 출력 프로그램\n",
        "\n",
        "msg = \"저는 파이썬을 잘 다룰 수 있습니다.\"\n",
        "\n"
      ]
    }
  ]
}