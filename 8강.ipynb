{
  "nbformat": 4,
  "nbformat_minor": 0,
  "metadata": {
    "colab": {
      "provenance": [],
      "authorship_tag": "ABX9TyNS1MsLdyUjuH/dJxi169Zp",
      "include_colab_link": true
    },
    "kernelspec": {
      "name": "python3",
      "display_name": "Python 3"
    },
    "language_info": {
      "name": "python"
    }
  },
  "cells": [
    {
      "cell_type": "markdown",
      "metadata": {
        "id": "view-in-github",
        "colab_type": "text"
      },
      "source": [
        "<a href=\"https://colab.research.google.com/github/sophia9999/practice/blob/main/8%EA%B0%95.ipynb\" target=\"_parent\"><img src=\"https://colab.research.google.com/assets/colab-badge.svg\" alt=\"Open In Colab\"/></a>"
      ]
    },
    {
      "cell_type": "markdown",
      "source": [
        "파이썬 인터프리터에서 기본적으로 지원하는 함수를 무엇이라고 하는가?\n",
        "- 내장 함수\n",
        "\n",
        "구조적 프로그래밍 패러다임에서 제안된 제어구조가 아닌 것은?\n",
        "- 재귀 구조\n",
        "\n",
        "다음은 무엇에 대한 설명인가?\n",
        "1. 이론을 세우는 데 기초가 되는 사실\n",
        "2. 관찰이나 실험, 조사로 얻은 사실\n",
        "- 데이터\n",
        "\n",
        "정보? 집합, 정렬, 가공을 통해 만들어지는 데이터.\n",
        "\n",
        "고급언어로 작성된 소스코드를 컴퓨터가 이해할 수 있는 기계어로 변환해 주는 프로그램은?\n",
        "- 인터프리터\n",
        "\n",
        "C Python 이라는 파이썬 인터프리터를 통해 파이썬으로 작성된 소스 코드를 바이트 코드로 만들고 해당 바이트 코드를 파이썬 가상머신(PVM)에 올려 모든 운영체제에서 사용할 수 있다.\n",
        "\n",
        "파이썬은 완전한 애플리케이션 단독 개발은 어렵다."
      ],
      "metadata": {
        "id": "qxVMmjH3TeZd"
      }
    }
  ]
}