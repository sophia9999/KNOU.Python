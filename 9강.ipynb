{
  "nbformat": 4,
  "nbformat_minor": 0,
  "metadata": {
    "colab": {
      "provenance": [],
      "authorship_tag": "ABX9TyOJxVgVz/r8fMl0AgnWWA0V",
      "include_colab_link": true
    },
    "kernelspec": {
      "name": "python3",
      "display_name": "Python 3"
    },
    "language_info": {
      "name": "python"
    }
  },
  "cells": [
    {
      "cell_type": "markdown",
      "metadata": {
        "id": "view-in-github",
        "colab_type": "text"
      },
      "source": [
        "<a href=\"https://colab.research.google.com/github/sophia9999/practice/blob/main/9%EA%B0%95.ipynb\" target=\"_parent\"><img src=\"https://colab.research.google.com/assets/colab-badge.svg\" alt=\"Open In Colab\"/></a>"
      ]
    },
    {
      "cell_type": "markdown",
      "source": [
        "#9강 함수\n",
        "\n",
        "###함수의 이해\n",
        "특정 작업을 수행하는 명령문의 집합\n",
        "\n",
        "-> 특정 작업을 함수의 이름으로 대체\n",
        "\n",
        "-> 유사한 유형의 문제를 해결할 수 있도록 고려\n",
        "\n",
        "사용자 정의 함수\n",
        "\n",
        "-> 내장 함수와 달리 사용자의 목적에 따라 정의된 함수\n",
        "\n",
        "구문형식\n",
        "\n",
        "    def 함수이름(매개변수 리스트) :\n",
        "      명령 블록\n"
      ],
      "metadata": {
        "id": "SF1HVbhwf9nF"
      }
    },
    {
      "cell_type": "code",
      "execution_count": 2,
      "metadata": {
        "id": "K6MQ8qkBf4kl"
      },
      "outputs": [],
      "source": [
        "#원뿔 부피 계산 함수 정의\n",
        "def prt_cone_vol(rad, hei) :\n",
        "    if rad > 0 and hei > 0 :\n",
        "        # r, h 모두 양수 일 때\n",
        "        vol = 1/3 * 3.14 * rad ** 2 * hei\n",
        "        print(\"원뿔의 부피는\", vol, \"입니다.\")\n",
        "    else :\n",
        "        # r, h가 음수일 때\n",
        "        print(\"반지름과 높이 값에 양수를 입력하세요.\")\n"
      ]
    },
    {
      "cell_type": "code",
      "source": [
        "#원뿔 부피 계산 함수 호출\n",
        "radius = 20\n",
        "height = -30\n",
        "\n",
        "prt_cone_vol(radius, height)"
      ],
      "metadata": {
        "colab": {
          "base_uri": "https://localhost:8080/"
        },
        "id": "_LB-kmzzwZ6z",
        "outputId": "1246c354-f144-4fd9-c66f-7cdb8e986c01"
      },
      "execution_count": 4,
      "outputs": [
        {
          "output_type": "stream",
          "name": "stdout",
          "text": [
            "반지름과 높이 값에 양수를 입력하세요.\n"
          ]
        }
      ]
    },
    {
      "cell_type": "code",
      "source": [
        "#숫자를 입력받고 역순으로 출력하는 함수를 사용한 프로그램 문제\n",
        "num = 1234\n",
        "\n",
        "def reverse_number(num) : \n",
        "    while num != 0 :\n",
        "        digit = num % 10\n",
        "        #정수 나눗셈 연산자\n",
        "        num = num // 10 \n",
        "        #기본은 end=\"\\n\" 이다. 개행\n",
        "        print(digit, end=\"\")\n",
        "\n",
        "reverse_number(num)"
      ],
      "metadata": {
        "colab": {
          "base_uri": "https://localhost:8080/"
        },
        "id": "NNTPSmkjwtCk",
        "outputId": "bc541e71-53e8-446e-d7fd-f5c133203b4d"
      },
      "execution_count": 9,
      "outputs": [
        {
          "output_type": "stream",
          "name": "stdout",
          "text": [
            "4321"
          ]
        }
      ]
    },
    {
      "cell_type": "markdown",
      "source": [
        "##반환값이 있는 함수 정의\n",
        "\n",
        "구문형식\n",
        "\n",
        "    def 함수이름(매개변수 리스트) :\n",
        "        명령 블록\n",
        "        return 반환값 리스트\n",
        "\n",
        "실행 후 결과 값을 남기는 함수\n",
        "\n",
        "-> return 명렁어와 반환값을 열거\n",
        "\n",
        "-> 함수 내부에 여러 개의 return 사용 가능"
      ],
      "metadata": {
        "id": "__fAEyvnzh0n"
      }
    },
    {
      "cell_type": "markdown",
      "source": [
        "## format 함수\n",
        "실수 데이터 형식화\n",
        "\n",
        "-> 형식 지정자\n",
        "\n",
        "        > 10 .2 f\n",
        "        > 는 정렬방향\n",
        "        10은 필드 폭 \n",
        "        f는 데이터 타입 \n",
        "        .2는 소수점 이하 자리수\n",
        "\n",
        "        format(3.141592, \">10.3f\")의 출력 결과는\n",
        "        \"     3.141\""
      ],
      "metadata": {
        "id": "RwOgiD6Z0Ky-"
      }
    },
    {
      "cell_type": "code",
      "source": [
        "#원뿔 부피 계산 함수 정의\n",
        "def rtn_cone_vol(rad, hei) :\n",
        "    if rad > 0 and hei > 0 :\n",
        "        # r, h 모두 양수 일 때\n",
        "        vol = 1/3 * 3.14 * rad ** 2 * hei\n",
        "        return vol\n",
        "    else :\n",
        "        # r, h가 음수일 때\n",
        "        print(\"반지름과 높이 값에 양수를 입력하세요.\")\n",
        "\n",
        "print(format(rtn_cone_vol(5, 10), \"<10.2f\"), \"입니다.\")"
      ],
      "metadata": {
        "colab": {
          "base_uri": "https://localhost:8080/"
        },
        "id": "uF-kwJtJz9iW",
        "outputId": "00533f05-94ec-4c4c-e3ca-4f8ea24bfa60"
      },
      "execution_count": 14,
      "outputs": [
        {
          "output_type": "stream",
          "name": "stdout",
          "text": [
            "261.67     입니다.\n"
          ]
        }
      ]
    },
    {
      "cell_type": "markdown",
      "source": [
        "##동시 할당의 개념\n",
        "    temp = 27\n",
        "    season = \"summer\"\n",
        "\n",
        "    temp, season = 27, \"summer\"\n",
        "\n",
        "##교환\n",
        "복수 개의 변수에 할당하는 값을 맞바꿈\n",
        "\n"
      ],
      "metadata": {
        "id": "YSfTaC3e1rtq"
      }
    },
    {
      "cell_type": "code",
      "source": [
        "def rtn_cone_vol_surf(r, h) :\n",
        "    if r > 0 and h > 0 :\n",
        "        # r, h 모두 양수 일 때\n",
        "        vol = 1/3 * 3.14 * r ** 2 * h\n",
        "        surf = 3.14 * r ** 2 + 3.14 * r * h\n",
        "        return vol, surf\n",
        "    else :\n",
        "        # r, h가 음수일 때\n",
        "        print(\"반지름과 높이 값에 양수를 입력하세요.\")\n",
        "\n",
        "\n",
        "vol1, surf1 = rtn_cone_vol_surf(50, 100)\n",
        "\n",
        "print(vol1, \"입니다.\")\n",
        "print(surf1, \"입니다.\")"
      ],
      "metadata": {
        "colab": {
          "base_uri": "https://localhost:8080/"
        },
        "id": "GYkExlM03AR6",
        "outputId": "4e24aebd-fda9-426b-e096-1335a973b8a0"
      },
      "execution_count": 16,
      "outputs": [
        {
          "output_type": "stream",
          "name": "stdout",
          "text": [
            "261666.66666666666 입니다.\n",
            "23550.0 입니다.\n"
          ]
        }
      ]
    },
    {
      "cell_type": "code",
      "source": [
        "#세 개의 사용자 입력을 오름차순으로 정렬하는 함수를 이용하여 정렬된 값을 출력하시오.\n",
        "\n",
        "a = int(input(\"첫번째 숫자를 입력하세요: \"))\n",
        "b = int(input(\"두번째 숫자를 입력하세요: \"))\n",
        "c = int(input(\"세번째 숫자를 입력하세요: \"))\n",
        "\n",
        "def sort3(a, b, c) :\n",
        "    if a > b :\n",
        "        a, b = b, a\n",
        "    if a > c :\n",
        "        a, c = c, a\n",
        "    if b > c :\n",
        "        b, c = c, b\n",
        "    print(a, b, c)\n",
        "\n",
        "sort3(a, b, c)\n",
        "print(\"출력 이 후\", a, b, c)"
      ],
      "metadata": {
        "colab": {
          "base_uri": "https://localhost:8080/"
        },
        "id": "RNrz1U-z32TW",
        "outputId": "0efe95eb-4bf9-4d23-a53f-930d004598cb"
      },
      "execution_count": 20,
      "outputs": [
        {
          "output_type": "stream",
          "name": "stdout",
          "text": [
            "첫번째 숫자를 입력하세요: 10\n",
            "두번째 숫자를 입력하세요: 50\n",
            "세번째 숫자를 입력하세요: 20\n",
            "10 20 50\n",
            "출력 이 후 10 50 20\n"
          ]
        }
      ]
    },
    {
      "cell_type": "markdown",
      "source": [
        "##값의 전달\n",
        "함수가 호출될 때, 값이 형식 매개변수에 전달\n",
        "\n",
        "##변수의 스코프\n",
        "프로그램에서 변수가 참조될 수 있는 영역\n",
        "\n",
        "전역변수: 프로그램 전체 영역에서 접근\n",
        "\n",
        "지역변수: 선언된 함수 내부에서만 접근\n",
        "\n",
        "##기본 매개변수\n",
        "함수 호출 시 매개변수가 전달되지 않을 경우 기본값이 전달되는 매개변수\n",
        "\n",
        "    print(\"Hello\", \"I am Python\", sep = \"\")\n",
        "\n",
        "구문형식\n",
        "\n",
        "    def 함수이름(매개변수 리스트, 매개변수=값 리스트) :\n",
        "        명령 블록\n",
        "        return 반환값 리스트\n",
        "-> 일반 매개변수 앞에 위치할 수 없음\n",
        "\n",
        "##가변 매개변수\n",
        "변수의 개수가 한정되어 있지 않은 가변 매개변수\n",
        "\n",
        "구문형식\n",
        "    def 함수이름(매개변수 리스트, *가변 매개변수) :\n",
        "        명령블록\n",
        "        return 반환값 리스트\n",
        "\n",
        "-> 일반 매개변수 앞에 위치할 수 없음\n",
        "-> 가변 매개변수는 1개만 사용 가능\n"
      ],
      "metadata": {
        "id": "ZcrHvdtq6EnO"
      }
    },
    {
      "cell_type": "code",
      "source": [
        "x = 1\n",
        "print(\"1, x의 값은\", x)\n",
        "\n",
        "def inc(x) :\n",
        "    x = x + 1\n",
        "    print(\"2. x의 값은\", x)\n",
        "\n",
        "inc(x)\n",
        "print(\"3. x의 값은\", x)"
      ],
      "metadata": {
        "colab": {
          "base_uri": "https://localhost:8080/"
        },
        "id": "f0eozX209jxt",
        "outputId": "00c434ed-51ec-4acb-d460-403bb581ed8c"
      },
      "execution_count": 22,
      "outputs": [
        {
          "output_type": "stream",
          "name": "stdout",
          "text": [
            "1, x의 값은 1\n",
            "2. x의 값은 2\n",
            "3. x의 값은 1\n"
          ]
        }
      ]
    },
    {
      "cell_type": "code",
      "source": [
        "def rtn_cone_vol_surf(r = 20, h = 30) : # 기본값 설정\n",
        "    if r > 0 and h > 0 :\n",
        "        # r, h 모두 양수 일 때\n",
        "        vol = 1/3 * 3.14 * r ** 2 * h\n",
        "        surf = 3.14 * r ** 2 + 3.14 * r * h\n",
        "        return vol, surf\n",
        "    else :\n",
        "        # r, h가 음수일 때\n",
        "        print(\"반지름과 높이 값에 양수를 입력하세요.\")\n",
        "\n",
        "radius = 50\n",
        "height = 100\n",
        "print(format( rtn_cone_vol(radius, height), \">10.3f\"))\n",
        "print(\"함수 사용 후 \", radius, height)\n",
        "\n",
        "print(rtn_cone_vol_surf(), \": 기본 값으로 함수를 정의한 경우\")"
      ],
      "metadata": {
        "colab": {
          "base_uri": "https://localhost:8080/"
        },
        "id": "I7IJPWdg7Qal",
        "outputId": "cde4d74d-65e4-4141-e958-26fad54a53b0"
      },
      "execution_count": 23,
      "outputs": [
        {
          "output_type": "stream",
          "name": "stdout",
          "text": [
            "261666.667\n",
            "함수 사용 후  50 100\n",
            "(12559.999999999998, 3140.0) : 기본 값으로 함수를 정의한 경우\n"
          ]
        }
      ]
    },
    {
      "cell_type": "code",
      "source": [
        "'''\n",
        "여러개의 수를 입력받고 합과 평균을 반환하는 \n",
        "var_sum_avg 함수를 사용하여 합과 평균을 출력하는 프로그램을 작성하시오\n",
        "'''\n",
        "\n",
        "def var_sum_arg(*numbers) :\n",
        "    sum = 0\n",
        "    count = 0\n",
        "\n",
        "    for i in numbers : \n",
        "        sum = sum + i\n",
        "        count = count + 1\n",
        "\n",
        "    return sum, sum/count\n",
        "\n",
        "print(var_sum_arg(10, 20, 30, 40))"
      ],
      "metadata": {
        "colab": {
          "base_uri": "https://localhost:8080/"
        },
        "id": "YmabUFq8_ySK",
        "outputId": "440b5e86-9c94-4c27-a3f2-bd38edc0c359"
      },
      "execution_count": 24,
      "outputs": [
        {
          "output_type": "stream",
          "name": "stdout",
          "text": [
            "(100, 25.0)\n"
          ]
        }
      ]
    }
  ]
}